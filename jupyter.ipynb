{
 "cells": [
  {
   "cell_type": "code",
   "execution_count": 2,
   "id": "48057dab-b513-43f7-97e8-715d8984b747",
   "metadata": {},
   "outputs": [],
   "source": [
    "import os\n",
    "import django\n",
    "\n",
    "os.environ.setdefault('DJANGO_SETTINGS_MODULE', 'django_api.settings')\n",
    "os.environ.setdefault('DJANGO_ALLOW_ASYNC_UNSAFE', 'true')\n",
    "\n",
    "django.setup()"
   ]
  },
  {
   "cell_type": "code",
   "execution_count": 71,
   "id": "56428b7d-f963-4300-a359-971c0fa07bed",
   "metadata": {},
   "outputs": [],
   "source": [
    "from app.models import File as FileObj"
   ]
  },
  {
   "cell_type": "code",
   "execution_count": 72,
   "id": "5e839e08-9d1f-48ec-a2fd-6b72338b1854",
   "metadata": {},
   "outputs": [],
   "source": [
    "files = FileObj.objects.all()"
   ]
  },
  {
   "cell_type": "code",
   "execution_count": 73,
   "id": "4d5a95bc",
   "metadata": {},
   "outputs": [
    {
     "name": "stdout",
     "output_type": "stream",
     "text": [
      "3\n"
     ]
    }
   ],
   "source": [
    "print( files.count() )"
   ]
  },
  {
   "cell_type": "code",
   "execution_count": 74,
   "id": "368d0ff7-f150-4783-88f8-04d3a9f684e3",
   "metadata": {},
   "outputs": [
    {
     "name": "stdout",
     "output_type": "stream",
     "text": [
      "['files/2021/04/14/82ffe5996a53415f8c4ec1a5fc5263ce.jpg', 'files/2021/04/14/a718283eb1ed4c20b38619d5618f82b3.jpg', 'files/2021/04/14/e3e0718ede0b4ea9896a784b523894bb.jpg']\n"
     ]
    }
   ],
   "source": [
    "a = [file.file_url.name for file in files]\n",
    "# a = list(a)\n",
    "print(a)"
   ]
  },
  {
   "cell_type": "code",
   "execution_count": 66,
   "id": "9f3a1e81",
   "metadata": {},
   "outputs": [],
   "source": [
    "file = open('./files/5b3a348faa71419da3dcddf01d61227e.jpg', 'rb')"
   ]
  },
  {
   "cell_type": "code",
   "execution_count": 67,
   "id": "c620ae2f",
   "metadata": {},
   "outputs": [],
   "source": [
    "from django.core.files import File as _File"
   ]
  },
  {
   "cell_type": "code",
   "execution_count": 68,
   "id": "7c4528c0-0826-4b42-ab83-e8d8f6a937e2",
   "metadata": {
    "scrolled": true
   },
   "outputs": [],
   "source": [
    "file = _File(file).file\n",
    "\n",
    "a = FileObj(file_url = _File(file))"
   ]
  },
  {
   "cell_type": "code",
   "execution_count": 69,
   "id": "d3faaf91",
   "metadata": {},
   "outputs": [],
   "source": [
    "a.save()"
   ]
  },
  {
   "cell_type": "code",
   "execution_count": 10,
   "id": "e6ceee9b-c1d9-4c3f-89fc-306414813965",
   "metadata": {},
   "outputs": [
    {
     "name": "stdout",
     "output_type": "stream",
     "text": [
      "files/2021/04/14/82ffe5996a53415f8c4ec1a5fc5263ce.jpg\n"
     ]
    }
   ],
   "source": [
    "print(a.file_url)"
   ]
  },
  {
   "cell_type": "code",
   "execution_count": 26,
   "id": "433646e8",
   "metadata": {},
   "outputs": [
    {
     "name": "stdout",
     "output_type": "stream",
     "text": [
      "title     |content|user |status|update_at          |created_at         \n",
      "----------|-------|-----|------|-------------------|-------------------\n",
      "Phong tran|Test   |phong|0     |2021-04-18 15:52:50|2021-05-03 03:20:14\n",
      "False\n",
      "{'base_errors': [], 'diff_headers': ['user', 'id', 'sid', 'title', 'content', 'status', 'update_at', 'created_at'], 'rows': [<import_export.results.RowResult object at 0x0000016CE07AC340>], 'invalid_rows': [], 'failed_dataset': <dataset object>, 'totals': OrderedDict([('new', 1), ('update', 0), ('delete', 0), ('skip', 0), ('error', 0), ('invalid', 0)]), 'total_rows': 1}\n"
     ]
    }
   ],
   "source": [
    "import tablib\n",
    "import pandas as pd\n",
    "from import_export import resources\n",
    "from app.models import Post\n",
    "from import_export import resources, fields, widgets\n",
    "from import_export.widgets import ForeignKeyWidget\n",
    "from django.contrib.auth.models import User\n",
    "\n",
    "\n",
    "class PostResource(resources.ModelResource):\n",
    "    user = fields.Field(\n",
    "        column_name='user',\n",
    "        attribute='user',\n",
    "        widget=ForeignKeyWidget(User, 'username'))\n",
    "    class Meta:\n",
    "        model = Post\n",
    "        \n",
    "\n",
    "xlsx = pd.ExcelFile(\"post.xlsx\")\n",
    "df = pd.read_excel(xlsx)\n",
    "data = df.values.tolist()\n",
    "post_resource = resources.modelresource_factory(model=Post, resource_class=PostResource)()\n",
    "dataset = tablib.Dataset(*data)\n",
    "dataset.headers = ['title', 'content', 'user','status','update_at','created_at']\n",
    "\n",
    "print(dataset)\n",
    "\n",
    "result = post_resource.import_data(dataset, dry_run=True)\n",
    "print(result.has_errors())\n",
    "\n",
    "result = post_resource.import_data(dataset, dry_run=False)\n",
    "\n",
    "print(result.__dict__)\n",
    "\n",
    "\n"
   ]
  },
  {
   "cell_type": "code",
   "execution_count": 22,
   "id": "b00eb6ff",
   "metadata": {},
   "outputs": [
    {
     "name": "stdout",
     "output_type": "stream",
     "text": [
      "[['Phong tran' 'Test' 'phong' 0 '2021-04-18 15:52:50'\n",
      "  '2021-05-03 03:20:14']]\n"
     ]
    }
   ],
   "source": [
    "\n",
    "import pandas as pd\n",
    "xlsx = pd.ExcelFile(\"post.xlsx\")\n",
    "df = pd.read_excel(xlsx)\n",
    "df_values = df.values\n",
    "df_values.tolist()\n",
    "print(df_values)"
   ]
  },
  {
   "cell_type": "code",
   "execution_count": null,
   "id": "121a0166",
   "metadata": {},
   "outputs": [],
   "source": []
  },
  {
   "cell_type": "code",
   "execution_count": 31,
   "id": "f8634124",
   "metadata": {},
   "outputs": [
    {
     "name": "stdout",
     "output_type": "stream",
     "text": [
      "first_name|last_name |age\n",
      "----------|----------|---\n",
      "John      |Adams     |90 \n",
      "George    |Washington|67 \n"
     ]
    }
   ],
   "source": [
    "\n",
    "\n",
    "data = tablib.Dataset()\n",
    "data.headers = ('first_name', 'last_name')\n",
    "\n",
    "data.append(['John', 'Adams'])\n",
    "data.append(('George', 'Washington'))\n",
    "\n",
    "data.append_col((90, 67), header='age')\n",
    "\n",
    "\n",
    "print(data)"
   ]
  }
 ],
 "metadata": {
  "kernelspec": {
   "display_name": "Python 3",
   "language": "python",
   "name": "python3"
  },
  "language_info": {
   "codemirror_mode": {
    "name": "ipython",
    "version": 3
   },
   "file_extension": ".py",
   "mimetype": "text/x-python",
   "name": "python",
   "nbconvert_exporter": "python",
   "pygments_lexer": "ipython3",
   "version": "3.9.4"
  }
 },
 "nbformat": 4,
 "nbformat_minor": 5
}
