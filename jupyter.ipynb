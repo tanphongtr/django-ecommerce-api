{
 "cells": [
  {
   "cell_type": "code",
   "execution_count": 10,
   "id": "48057dab-b513-43f7-97e8-715d8984b747",
   "metadata": {},
   "outputs": [
    {
     "data": {
      "text/plain": [
       "'true'"
      ]
     },
     "execution_count": 10,
     "metadata": {},
     "output_type": "execute_result"
    }
   ],
   "source": [
    "import os\n",
    "os.environ.setdefault('DJANGO_SETTINGS_MODULE', 'django_api.settings')\n",
    "os.environ.setdefault('DJANGO_ALLOW_ASYNC_UNSAFE', 'true')"
   ]
  },
  {
   "cell_type": "code",
   "execution_count": 11,
   "id": "4eed4b56",
   "metadata": {},
   "outputs": [],
   "source": [
    "import django\n",
    "django.setup()"
   ]
  },
  {
   "cell_type": "code",
   "execution_count": 12,
   "id": "56428b7d-f963-4300-a359-971c0fa07bed",
   "metadata": {},
   "outputs": [],
   "source": [
    "from app.models import File as FileObj"
   ]
  },
  {
   "cell_type": "code",
   "execution_count": 13,
   "id": "5e839e08-9d1f-48ec-a2fd-6b72338b1854",
   "metadata": {},
   "outputs": [],
   "source": [
    "files = FileObj.objects.all()"
   ]
  },
  {
   "cell_type": "code",
   "execution_count": 14,
   "id": "368d0ff7-f150-4783-88f8-04d3a9f684e3",
   "metadata": {},
   "outputs": [
    {
     "name": "stdout",
     "output_type": "stream",
     "text": [
      "['files/2021/04/14/4b33e29cdf404ff69dcf39f7858ca411.jpg']\n"
     ]
    }
   ],
   "source": [
    "a = [file.file_url.name for file in files]\n",
    "# a = list(a)\n",
    "print(a)"
   ]
  },
  {
   "cell_type": "code",
   "execution_count": 6,
   "id": "9f3a1e81",
   "metadata": {},
   "outputs": [],
   "source": [
    "file = open('./files/5b3a348faa71419da3dcddf01d61227e.jpg', 'rb')"
   ]
  },
  {
   "cell_type": "code",
   "execution_count": 7,
   "id": "c620ae2f",
   "metadata": {},
   "outputs": [],
   "source": [
    "from django.core.files import File as _File"
   ]
  },
  {
   "cell_type": "code",
   "execution_count": 8,
   "id": "7c4528c0-0826-4b42-ab83-e8d8f6a937e2",
   "metadata": {
    "scrolled": true
   },
   "outputs": [],
   "source": [
    "file = _File(file).file\n",
    "\n",
    "a = FileObj(file_url = _File(file))"
   ]
  },
  {
   "cell_type": "code",
   "execution_count": 9,
   "id": "d3faaf91",
   "metadata": {},
   "outputs": [],
   "source": [
    "a.save()"
   ]
  },
  {
   "cell_type": "code",
   "execution_count": 10,
   "id": "e6ceee9b-c1d9-4c3f-89fc-306414813965",
   "metadata": {},
   "outputs": [
    {
     "name": "stdout",
     "output_type": "stream",
     "text": [
      "files/2021/04/13/e9aea7be13bc4e4ba8842e04fd4070af.jpg\n"
     ]
    }
   ],
   "source": [
    "print(a.file_url)"
   ]
  },
  {
   "cell_type": "code",
   "execution_count": null,
   "id": "433646e8",
   "metadata": {},
   "outputs": [],
   "source": []
  },
  {
   "cell_type": "code",
   "execution_count": null,
   "id": "b00eb6ff",
   "metadata": {},
   "outputs": [],
   "source": []
  },
  {
   "cell_type": "code",
   "execution_count": null,
   "id": "121a0166",
   "metadata": {},
   "outputs": [],
   "source": []
  },
  {
   "cell_type": "code",
   "execution_count": null,
   "id": "f8634124",
   "metadata": {},
   "outputs": [],
   "source": []
  }
 ],
 "metadata": {
  "kernelspec": {
   "display_name": "Python 3",
   "language": "python",
   "name": "python3"
  },
  "language_info": {
   "codemirror_mode": {
    "name": "ipython",
    "version": 3
   },
   "file_extension": ".py",
   "mimetype": "text/x-python",
   "name": "python",
   "nbconvert_exporter": "python",
   "pygments_lexer": "ipython3",
   "version": "3.9.4"
  }
 },
 "nbformat": 4,
 "nbformat_minor": 5
}
