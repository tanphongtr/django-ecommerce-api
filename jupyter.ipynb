{
 "cells": [
  {
   "cell_type": "code",
   "execution_count": 1,
   "id": "48057dab-b513-43f7-97e8-715d8984b747",
   "metadata": {},
   "outputs": [],
   "source": [
    "import os\n",
    "import django\n",
    "\n",
    "os.environ.setdefault('DJANGO_SETTINGS_MODULE', 'django_api.settings')\n",
    "os.environ.setdefault('DJANGO_ALLOW_ASYNC_UNSAFE', 'true')\n",
    "\n",
    "django.setup()"
   ]
  },
  {
   "cell_type": "code",
   "execution_count": 2,
   "id": "56428b7d-f963-4300-a359-971c0fa07bed",
   "metadata": {},
   "outputs": [],
   "source": [
    "from app.models import File as FileObj"
   ]
  },
  {
   "cell_type": "code",
   "execution_count": 13,
   "id": "5e839e08-9d1f-48ec-a2fd-6b72338b1854",
   "metadata": {},
   "outputs": [],
   "source": [
    "files = FileObj.objects.all()"
   ]
  },
  {
   "cell_type": "code",
   "execution_count": 10,
   "id": "03cf1378",
   "metadata": {},
   "outputs": [
    {
     "name": "stdout",
     "output_type": "stream",
     "text": [
      "File object (3)\n"
     ]
    }
   ],
   "source": [
    "create_file = FileObj(file_url='test')\n",
    "create_file.save()\n",
    "print(create_file)"
   ]
  },
  {
   "cell_type": "code",
   "execution_count": 11,
   "id": "4d5a95bc",
   "metadata": {},
   "outputs": [
    {
     "name": "stdout",
     "output_type": "stream",
     "text": [
      "3\n"
     ]
    }
   ],
   "source": [
    "print( files.count() )"
   ]
  },
  {
   "cell_type": "code",
   "execution_count": 14,
   "id": "368d0ff7-f150-4783-88f8-04d3a9f684e3",
   "metadata": {},
   "outputs": [
    {
     "name": "stdout",
     "output_type": "stream",
     "text": [
      "['files/2021/11/24/e0db41e575e34c12a38de1ae14abc9e0.png', 'test', 'test']\n"
     ]
    }
   ],
   "source": [
    "a = [file.file_url.name for file in files]\n",
    "# a = list(a)\n",
    "print(a)"
   ]
  },
  {
   "cell_type": "code",
   "execution_count": 19,
   "id": "9f3a1e81",
   "metadata": {},
   "outputs": [],
   "source": [
    "file = open('./files/files/2021/11/24/e0db41e575e34c12a38de1ae14abc9e0.png', 'rb')"
   ]
  },
  {
   "cell_type": "code",
   "execution_count": 20,
   "id": "c620ae2f",
   "metadata": {},
   "outputs": [],
   "source": [
    "from django.core.files import File as _File"
   ]
  },
  {
   "cell_type": "code",
   "execution_count": 21,
   "id": "7c4528c0-0826-4b42-ab83-e8d8f6a937e2",
   "metadata": {
    "scrolled": true
   },
   "outputs": [],
   "source": [
    "file = _File(file).file\n",
    "\n",
    "a = FileObj(file_url = _File(file))"
   ]
  },
  {
   "cell_type": "code",
   "execution_count": 22,
   "id": "d3faaf91",
   "metadata": {},
   "outputs": [],
   "source": [
    "a.save()"
   ]
  },
  {
   "cell_type": "code",
   "execution_count": 23,
   "id": "e6ceee9b-c1d9-4c3f-89fc-306414813965",
   "metadata": {},
   "outputs": [
    {
     "name": "stdout",
     "output_type": "stream",
     "text": [
      "files/2022/02/11/1041ec38c5ce4850b5ec69426f58c806.png\n"
     ]
    }
   ],
   "source": [
    "print(a.file_url)"
   ]
  },
  {
   "cell_type": "code",
   "execution_count": 24,
   "id": "433646e8",
   "metadata": {},
   "outputs": [
    {
     "name": "stdout",
     "output_type": "stream",
     "text": [
      "title     |content|user |status|update_at          |created_at         \n",
      "----------|-------|-----|------|-------------------|-------------------\n",
      "Phong tran|Test   |phong|0     |2021-04-18 15:52:50|2021-05-03 03:20:14\n",
      "True\n",
      "{'base_errors': [], 'diff_headers': ['user', 'id', 'sid', 'title', 'content', 'status', 'update_at', 'created_at'], 'rows': [<import_export.results.RowResult object at 0xffff4e2bca30>], 'invalid_rows': [], 'failed_dataset': <dataset object>, 'totals': OrderedDict([('new', 0), ('update', 0), ('delete', 0), ('skip', 0), ('error', 1), ('invalid', 0)]), 'total_rows': 1}\n"
     ]
    }
   ],
   "source": [
    "import tablib\n",
    "import pandas as pd\n",
    "from import_export import resources\n",
    "from app.models import Post\n",
    "from import_export import resources, fields, widgets\n",
    "from import_export.widgets import ForeignKeyWidget\n",
    "from django.contrib.auth.models import User\n",
    "\n",
    "\n",
    "class PostResource(resources.ModelResource):\n",
    "    user = fields.Field(\n",
    "        column_name='user',\n",
    "        attribute='user',\n",
    "        widget=ForeignKeyWidget(User, 'username'))\n",
    "    class Meta:\n",
    "        model = Post\n",
    "        \n",
    "\n",
    "xlsx = pd.ExcelFile(\"post.xlsx\")\n",
    "df = pd.read_excel(xlsx)\n",
    "data = df.values.tolist()\n",
    "post_resource = resources.modelresource_factory(model=Post, resource_class=PostResource)()\n",
    "dataset = tablib.Dataset(*data)\n",
    "dataset.headers = ['title', 'content', 'user','status','update_at','created_at']\n",
    "\n",
    "print(dataset)\n",
    "\n",
    "result = post_resource.import_data(dataset, dry_run=True)\n",
    "print(result.has_errors())\n",
    "\n",
    "result = post_resource.import_data(dataset, dry_run=False)\n",
    "\n",
    "print(result.__dict__)\n",
    "\n",
    "\n"
   ]
  },
  {
   "cell_type": "code",
   "execution_count": 25,
   "id": "b00eb6ff",
   "metadata": {},
   "outputs": [
    {
     "name": "stdout",
     "output_type": "stream",
     "text": [
      "[['Phong tran' 'Test' 'phong' 0 '2021-04-18 15:52:50'\n",
      "  '2021-05-03 03:20:14']]\n"
     ]
    }
   ],
   "source": [
    "\n",
    "import pandas as pd\n",
    "xlsx = pd.ExcelFile(\"post.xlsx\")\n",
    "df = pd.read_excel(xlsx)\n",
    "df_values = df.values\n",
    "df_values.tolist()\n",
    "print(df_values)"
   ]
  },
  {
   "cell_type": "code",
   "execution_count": 31,
   "id": "f8634124",
   "metadata": {},
   "outputs": [
    {
     "name": "stdout",
     "output_type": "stream",
     "text": [
      "first_name|last_name |age\n",
      "----------|----------|---\n",
      "John      |Adams     |90 \n",
      "George    |Washington|67 \n"
     ]
    }
   ],
   "source": [
    "\n",
    "\n",
    "data = tablib.Dataset()\n",
    "data.headers = ('first_name', 'last_name')\n",
    "\n",
    "data.append(['John', 'Adams'])\n",
    "data.append(('George', 'Washington'))\n",
    "\n",
    "data.append_col((90, 67), header='age')\n",
    "\n",
    "\n",
    "print(data)"
   ]
  },
  {
   "cell_type": "code",
   "execution_count": 31,
   "id": "ce37b825",
   "metadata": {},
   "outputs": [
    {
     "ename": "TypeError",
     "evalue": "int() argument must be a string, a bytes-like object or a number, not 'NoneType'",
     "output_type": "error",
     "traceback": [
      "\u001b[0;31m---------------------------------------------------------------------------\u001b[0m",
      "\u001b[0;31mTypeError\u001b[0m                                 Traceback (most recent call last)",
      "Input \u001b[0;32mIn [31]\u001b[0m, in \u001b[0;36m<module>\u001b[0;34m\u001b[0m\n\u001b[0;32m----> 1\u001b[0m \u001b[38;5;28mprint\u001b[39m(\u001b[38;5;28;43mint\u001b[39;49m\u001b[43m(\u001b[49m\u001b[38;5;28;43;01mNone\u001b[39;49;00m\u001b[43m)\u001b[49m)\n",
      "\u001b[0;31mTypeError\u001b[0m: int() argument must be a string, a bytes-like object or a number, not 'NoneType'"
     ]
    }
   ],
   "source": [
    "print(int(None))"
   ]
  },
  {
   "cell_type": "code",
   "execution_count": null,
   "id": "bc241254",
   "metadata": {},
   "outputs": [],
   "source": []
  }
 ],
 "metadata": {
  "kernelspec": {
   "display_name": "Python 3 (ipykernel)",
   "language": "python",
   "name": "python3"
  },
  "language_info": {
   "codemirror_mode": {
    "name": "ipython",
    "version": 3
   },
   "file_extension": ".py",
   "mimetype": "text/x-python",
   "name": "python",
   "nbconvert_exporter": "python",
   "pygments_lexer": "ipython3",
   "version": "3.9.4"
  }
 },
 "nbformat": 4,
 "nbformat_minor": 5
}
